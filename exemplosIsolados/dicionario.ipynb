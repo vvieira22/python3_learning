{
 "cells": [
  {
   "cell_type": "code",
   "execution_count": 30,
   "metadata": {},
   "outputs": [
    {
     "data": {
      "text/plain": [
       "dict_values([3, 0, 3, 10])"
      ]
     },
     "execution_count": 30,
     "metadata": {},
     "output_type": "execute_result"
    }
   ],
   "source": [
    "dicionario = {\n",
    "    \"maicon\":3,\n",
    "    \"jose\":0,\n",
    "    \"maria\":3\n",
    "}\n",
    "\n",
    "dicionario[\"vitor\"] = 10\n",
    "dicionario.values()"
   ]
  },
  {
   "cell_type": "code",
   "execution_count": 17,
   "metadata": {},
   "outputs": [
    {
     "name": "stdout",
     "output_type": "stream",
     "text": [
      "('maicon', 3)\n",
      "('jose', 0)\n",
      "('maria', 3)\n",
      "('vitor', 10)\n",
      "maicon\n",
      "jose\n",
      "maria\n",
      "vitor\n",
      "3\n",
      "0\n",
      "3\n",
      "10\n",
      "maicon 3\n",
      "jose 0\n",
      "maria 3\n",
      "vitor 10\n"
     ]
    },
    {
     "data": {
      "text/plain": [
       "['palavra: maicon', 'palavra: jose', 'palavra: maria', 'palavra: vitor']"
      ]
     },
     "execution_count": 17,
     "metadata": {},
     "output_type": "execute_result"
    }
   ],
   "source": [
    "for item in dicionario.items():\n",
    "    print(item)\n",
    "    \n",
    "for chave in dicionario:\n",
    "    print(chave)\n",
    "\n",
    "for valores in dicionario.values():\n",
    "    print(valores)\n",
    "\n",
    "#Mais comum.\n",
    "for chave, valor in dicionario.items():\n",
    "    print(chave, valor)\n",
    "\n",
    "#loucura ta\n",
    "[\"palavra: \" + chave for chave in dicionario.keys()]"
   ]
  },
  {
   "cell_type": "code",
   "execution_count": 12,
   "metadata": {},
   "outputs": [
    {
     "data": {
      "text/plain": [
       "{'um': 1,\n",
       " 'texto': 1,\n",
       " 'grande': 2,\n",
       " 'e': 2,\n",
       " 'complexo': 3,\n",
       " 'para': 1,\n",
       " 'usar': 1,\n",
       " 'como': 1,\n",
       " 'exemplo': 2,\n",
       " 'grande,': 1,\n",
       " 'carambolas': 1,\n",
       " 'que': 1,\n",
       " 'esse': 1,\n",
       " '.': 1}"
      ]
     },
     "execution_count": 12,
     "metadata": {},
     "output_type": "execute_result"
    }
   ],
   "source": [
    "texto = \"Um texto grande e complexo para Usar como exemplo complexo e grande, carambolas que grande  esse exemplo complexo .\"\n",
    "texto_minusculo = texto.lower()\n",
    "\n",
    "aparicoes = {}\n",
    "\n",
    "for palavra in texto_minusculo.split():\n",
    "    ate_agora = aparicoes.get(palavra, 0)\n",
    "    aparicoes[palavra] = ate_agora + 1\n",
    "    \n",
    "aparicoes"
   ]
  },
  {
   "cell_type": "code",
   "execution_count": 15,
   "metadata": {},
   "outputs": [
    {
     "data": {
      "text/plain": [
       "defaultdict(int,\n",
       "            {'um': 1,\n",
       "             'texto': 1,\n",
       "             'grande': 2,\n",
       "             'e': 2,\n",
       "             'complexo': 3,\n",
       "             'para': 1,\n",
       "             'usar': 1,\n",
       "             'como': 1,\n",
       "             'exemplo': 2,\n",
       "             'grande,': 1,\n",
       "             'carambolas': 1,\n",
       "             'que': 1,\n",
       "             'esse': 1,\n",
       "             '.': 1})"
      ]
     },
     "execution_count": 15,
     "metadata": {},
     "output_type": "execute_result"
    }
   ],
   "source": [
    "from collections import defaultdict\n",
    "\n",
    "aparicoes = defaultdict(int)\n",
    "for palavra in texto_minusculo.split():\n",
    "    # ate_agora = aparicoes[palavra]\n",
    "# chama int = 0, se for a primeira vez da palavra..\n",
    "\n",
    "    aparicoes[palavra] += ate_agora + 1\n",
    "    \n",
    "aparicoes"
   ]
  },
  {
   "cell_type": "code",
   "execution_count": 20,
   "metadata": {},
   "outputs": [
    {
     "name": "stdout",
     "output_type": "stream",
     "text": [
      "imprimindo uma conta\n"
     ]
    },
    {
     "data": {
      "text/plain": [
       "<__main__.Conta at 0x219ac96fe50>"
      ]
     },
     "execution_count": 20,
     "metadata": {},
     "output_type": "execute_result"
    }
   ],
   "source": [
    "class Conta:\n",
    "    def __init__(self):\n",
    "        print(\"imprimindo uma conta\")\n",
    "\n",
    "contas = defaultdict(Conta)\n",
    "contas[15]"
   ]
  },
  {
   "cell_type": "code",
   "execution_count": 21,
   "metadata": {},
   "outputs": [
    {
     "data": {
      "text/plain": [
       "Counter({'um': 1,\n",
       "         'texto': 1,\n",
       "         'grande': 2,\n",
       "         'e': 2,\n",
       "         'complexo': 3,\n",
       "         'para': 1,\n",
       "         'usar': 1,\n",
       "         'como': 1,\n",
       "         'exemplo': 2,\n",
       "         'grande,': 1,\n",
       "         'carambolas': 1,\n",
       "         'que': 1,\n",
       "         'esse': 1,\n",
       "         '.': 1})"
      ]
     },
     "execution_count": 21,
     "metadata": {},
     "output_type": "execute_result"
    }
   ],
   "source": [
    "from collections import Counter\n",
    "\n",
    "Counter(texto_minusculo.split())\n"
   ]
  },
  {
   "cell_type": "code",
   "execution_count": 48,
   "metadata": {},
   "outputs": [
    {
     "data": {
      "text/plain": [
       "{'p': 'frequente',\n",
       " 'o': 'frequente',\n",
       " 'r': 'frequente',\n",
       " ' ': 'bem frequente',\n",
       " 'f': 'frequente',\n",
       " 'i': 'frequente',\n",
       " 'm': 'frequente',\n",
       " ',': 'frequente',\n",
       " 'v': 'frequente',\n",
       " 'a': 'frequente',\n",
       " 's': 'frequente',\n",
       " 'c': 'frequente',\n",
       " 'l': 'frequente',\n",
       " 't': 'frequente',\n",
       " 'u': 'frequente',\n",
       " 'd': 'frequente',\n",
       " 'e': 'bem frequente',\n",
       " 'á': 'frequente',\n",
       " 'g': 'frequente',\n",
       " 'x': 'frequente',\n",
       " 'n': 'frequente',\n",
       " '?': 'frequente',\n",
       " 'ã': 'frequente',\n",
       " 'q': 'frequente',\n",
       " 'z': 'frequente',\n",
       " 'é': 'frequente',\n",
       " 'í': 'frequente',\n",
       " 'b': 'frequente',\n",
       " '.': 'frequente',\n",
       " 'ç': 'frequente',\n",
       " 'õ': 'frequente'}"
      ]
     },
     "execution_count": 48,
     "metadata": {},
     "output_type": "execute_result"
    }
   ],
   "source": [
    "texto1 = \"Por fim, vamos colocar tudo isso em prática para vermos algum exemplo diferente? Então o que eu queria fazer agora não é um contador de palavras, eu fazer um contador de letras para vermos uma coisa interessante que acontece na língua portuguesa e em outras línguas, para ser sincero, também. Então eu vou criar aqui uma nova sessão que é Testando o uso de diversas coleções\"\n",
    "\n",
    "texto2 = \"O ex-BBB Eliezer, quarto colocado na vigésima segunda edição do reality show da Globo, vem dando o que falar após o fim do confinamento por seu romance com Viih Tube. Apesar de dizer estar vivendo uma relação sem rótulos com a atriz, ele revelou ter recebido um convite pra lá de íntimo da famosa próximo ao Dia dos Namorados. Em entrevista ao Em Off,o designer contou que foi surpreendido ao ser chamado para passar a data ao lado da loira em um SPA.\"\n",
    "\n",
    "aparicoes_letra_t1 = Counter(texto1.lower())\n",
    "frequencia_aparicoes = {}\n",
    "for letra in aparicoes_letra_t1:\n",
    "    if(aparicoes_letra_t1[letra] <= sum(aparicoes_letra_t1.values())*0.1):\n",
    "        frequencia_aparicoes[letra] = \"frequente\"\n",
    "    elif(aparicoes_letra_t1[letra] >= sum(aparicoes_letra_t1.values())*0.1 and aparicoes_letra_t1[letra] <= sum(aparicoes_letra_t1.values())*0.2):\n",
    "        frequencia_aparicoes[letra] = \"bem frequente\"\n",
    "    else:\n",
    "        frequencia_aparicoes[letra] = \"muito frequente\"            \n",
    "frequencia_aparicoes\n"
   ]
  },
  {
   "cell_type": "code",
   "execution_count": 51,
   "metadata": {},
   "outputs": [
    {
     "name": "stdout",
     "output_type": "stream",
     "text": [
      "  => 17.38% \n",
      "e => 10.16% \n",
      "a => 9.89% \n",
      "o => 8.02% \n",
      "r => 6.68% \n",
      "s => 6.15% \n",
      "u => 5.61% \n",
      "t => 4.28% \n",
      "n => 4.01% \n",
      "m => 3.74% \n"
     ]
    }
   ],
   "source": [
    "texto1 = \"Por fim, vamos colocar tudo isso em prática para vermos algum exemplo diferente? Então o que eu queria fazer agora não é um contador de palavras, eu fazer um contador de letras para vermos uma coisa interessante que acontece na língua portuguesa e em outras línguas, para ser sincero, também. Então eu vou criar aqui uma nova sessão que é Testando o uso de diversas coleções\"\n",
    "\n",
    "texto2 = \"O ex-BBB Eliezer, quarto colocado na vigésima segunda edição do reality show da Globo, vem dando o que falar após o fim do confinamento por seu romance com Viih Tube. Apesar de dizer estar vivendo uma relação sem rótulos com a atriz, ele revelou ter recebido um convite pra lá de íntimo da famosa próximo ao Dia dos Namorados. Em entrevista ao Em Off,o designer contou que foi surpreendido ao ser chamado para passar a data ao lado da loira em um SPA.\"\n",
    "\n",
    "aparicoes = Counter(texto1.lower())\n",
    "total_caracteres = sum(aparicoes.values())\n",
    "\n",
    "proporcoes = [(letra, frequencia / total_caracteres) for letra, frequencia in aparicoes.items()]\n",
    "proporcoes = Counter(dict(proporcoes))\n",
    "mais_comuns = proporcoes.most_common(10)\n",
    "\n",
    "for caractere, proporcao in mais_comuns:\n",
    "    print(\"{} => {:.2f}% \".format(caractere, proporcao*100))"
   ]
  },
  {
   "cell_type": "code",
   "execution_count": null,
   "metadata": {},
   "outputs": [],
   "source": []
  }
 ],
 "metadata": {
  "kernelspec": {
   "display_name": "Python 3.10.3 64-bit",
   "language": "python",
   "name": "python3"
  },
  "language_info": {
   "codemirror_mode": {
    "name": "ipython",
    "version": 3
   },
   "file_extension": ".py",
   "mimetype": "text/x-python",
   "name": "python",
   "nbconvert_exporter": "python",
   "pygments_lexer": "ipython3",
   "version": "3.10.3"
  },
  "orig_nbformat": 4,
  "vscode": {
   "interpreter": {
    "hash": "f81548ef5a6a073a7b73b9912d26c116609944a7b4d4301c3fe68525e5cb08f4"
   }
  }
 },
 "nbformat": 4,
 "nbformat_minor": 2
}
