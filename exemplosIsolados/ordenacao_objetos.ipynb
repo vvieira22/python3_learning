{
 "cells": [
  {
   "cell_type": "code",
   "execution_count": 1,
   "metadata": {},
   "outputs": [],
   "source": [
    "class Produto(object): \n",
    "  def __init__(self, nome, valor): \n",
    "    self.__nome = nome \n",
    "    self.__valor = valor \n",
    "\n",
    "  def __repr__(self): \n",
    "    return \"nome:%s valor:%s\" % (self.__nome, self.__valor)\n",
    "\n",
    "  def get_nome(self): \n",
    "    return self.__nome\n",
    "\n",
    "  def get_valor(self): \n",
    "    return self.__valor"
   ]
  },
  {
   "cell_type": "code",
   "execution_count": 3,
   "metadata": {},
   "outputs": [
    {
     "data": {
      "text/plain": [
       "[nome:chocolate valor:3.45,\n",
       " nome:suco valor:0.7,\n",
       " nome:cafe valor:5.0,\n",
       " nome:arroz valor:7.0]"
      ]
     },
     "execution_count": 3,
     "metadata": {},
     "output_type": "execute_result"
    }
   ],
   "source": [
    "lista_produtos = [Produto(\"chocolate\", 3.45), Produto(\"suco\", 0.70), Produto(\"cafe\", 5.0), Produto(\"arroz\", 7.0)]\n",
    "lista_produtos"
   ]
  },
  {
   "cell_type": "code",
   "execution_count": 5,
   "metadata": {},
   "outputs": [
    {
     "data": {
      "text/plain": [
       "[nome:arroz valor:7.0,\n",
       " nome:cafe valor:5.0,\n",
       " nome:chocolate valor:3.45,\n",
       " nome:suco valor:0.7]"
      ]
     },
     "execution_count": 5,
     "metadata": {},
     "output_type": "execute_result"
    }
   ],
   "source": [
    "#para ordenar um objeto precisamos passar por quem ele deve ordenar, no caso vamos ordenar pelo nome.\n",
    "lista_produtos_ordenados = sorted(lista_produtos, key = Produto.get_nome)\n",
    "lista_produtos_ordenados_reverso = sorted(lista_produtos, key = Produto.get_nome, reverse = True)\n",
    "lista_produtos_ordenados\n"
   ]
  }
 ],
 "metadata": {
  "kernelspec": {
   "display_name": "Python 3.10.3 64-bit",
   "language": "python",
   "name": "python3"
  },
  "language_info": {
   "codemirror_mode": {
    "name": "ipython",
    "version": 3
   },
   "file_extension": ".py",
   "mimetype": "text/x-python",
   "name": "python",
   "nbconvert_exporter": "python",
   "pygments_lexer": "ipython3",
   "version": "3.10.3"
  },
  "orig_nbformat": 4,
  "vscode": {
   "interpreter": {
    "hash": "f81548ef5a6a073a7b73b9912d26c116609944a7b4d4301c3fe68525e5cb08f4"
   }
  }
 },
 "nbformat": 4,
 "nbformat_minor": 2
}
